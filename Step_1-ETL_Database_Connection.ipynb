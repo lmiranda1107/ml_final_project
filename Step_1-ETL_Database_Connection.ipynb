{
 "cells": [
  {
   "cell_type": "markdown",
   "metadata": {},
   "source": [
    "# Step 1 - DB ETL and Connection\n",
    "* Data gathered from a Machine Learning Database: https://archive.ics.uci.edu/ml/datasets/Breast+Cancer+Wisconsin+%28Diagnostic%29"
   ]
  },
  {
   "cell_type": "code",
   "execution_count": 47,
   "metadata": {},
   "outputs": [],
   "source": [
    "# Dependencies\n",
    "from numpy import genfromtxt\n",
    "from time import time\n",
    "from datetime import datetime\n",
    "from sqlalchemy import Column, Integer, Float, Date, String, ForeignKey\n",
    "from sqlalchemy.ext.declarative import declarative_base\n",
    "from sqlalchemy import create_engine\n",
    "from sqlalchemy.orm import sessionmaker\n",
    "from sqlalchemy.orm import Session\n",
    "from sqlalchemy import Index\n",
    "from sqlalchemy import MetaData\n",
    "from sqlalchemy import Table\n",
    "import csv\n",
    "import pandas as pd\n",
    "from sqlalchemy.ext.automap import automap_base\n",
    "from sqlalchemy import create_engine, inspect\n",
    "from sqlalchemy import func"
   ]
  },
  {
   "cell_type": "markdown",
   "metadata": {},
   "source": [
    "### Data read (csv) and clean up \n",
    "* The columns needed to be renamed adding underscores for better manipulation"
   ]
  },
  {
   "cell_type": "code",
   "execution_count": 48,
   "metadata": {},
   "outputs": [
    {
     "data": {
      "text/html": [
       "<div>\n",
       "<style scoped>\n",
       "    .dataframe tbody tr th:only-of-type {\n",
       "        vertical-align: middle;\n",
       "    }\n",
       "\n",
       "    .dataframe tbody tr th {\n",
       "        vertical-align: top;\n",
       "    }\n",
       "\n",
       "    .dataframe thead th {\n",
       "        text-align: right;\n",
       "    }\n",
       "</style>\n",
       "<table border=\"1\" class=\"dataframe\">\n",
       "  <thead>\n",
       "    <tr style=\"text-align: right;\">\n",
       "      <th></th>\n",
       "      <th>patient_id</th>\n",
       "      <th>diagnosis</th>\n",
       "      <th>radius_mean</th>\n",
       "      <th>texture_mean</th>\n",
       "      <th>perimeter_mean</th>\n",
       "      <th>area_mean</th>\n",
       "      <th>smoothness_mean</th>\n",
       "      <th>compactness_mean</th>\n",
       "      <th>concavity_mean</th>\n",
       "      <th>concave_points_mean</th>\n",
       "      <th>...</th>\n",
       "      <th>radius_worst</th>\n",
       "      <th>texture_worst</th>\n",
       "      <th>perimeter_worst</th>\n",
       "      <th>area_worst</th>\n",
       "      <th>smoothness_worst</th>\n",
       "      <th>compactness_worst</th>\n",
       "      <th>concavity_worst</th>\n",
       "      <th>concave_points_worst</th>\n",
       "      <th>symmetry_worst</th>\n",
       "      <th>fractal_dimension_worst</th>\n",
       "    </tr>\n",
       "  </thead>\n",
       "  <tbody>\n",
       "    <tr>\n",
       "      <th>0</th>\n",
       "      <td>842302</td>\n",
       "      <td>M</td>\n",
       "      <td>17.99</td>\n",
       "      <td>10.38</td>\n",
       "      <td>122.80</td>\n",
       "      <td>1001.0</td>\n",
       "      <td>0.11840</td>\n",
       "      <td>0.27760</td>\n",
       "      <td>0.3001</td>\n",
       "      <td>0.14710</td>\n",
       "      <td>...</td>\n",
       "      <td>25.38</td>\n",
       "      <td>17.33</td>\n",
       "      <td>184.60</td>\n",
       "      <td>2019.0</td>\n",
       "      <td>0.1622</td>\n",
       "      <td>0.6656</td>\n",
       "      <td>0.7119</td>\n",
       "      <td>0.2654</td>\n",
       "      <td>0.4601</td>\n",
       "      <td>0.11890</td>\n",
       "    </tr>\n",
       "    <tr>\n",
       "      <th>1</th>\n",
       "      <td>842517</td>\n",
       "      <td>M</td>\n",
       "      <td>20.57</td>\n",
       "      <td>17.77</td>\n",
       "      <td>132.90</td>\n",
       "      <td>1326.0</td>\n",
       "      <td>0.08474</td>\n",
       "      <td>0.07864</td>\n",
       "      <td>0.0869</td>\n",
       "      <td>0.07017</td>\n",
       "      <td>...</td>\n",
       "      <td>24.99</td>\n",
       "      <td>23.41</td>\n",
       "      <td>158.80</td>\n",
       "      <td>1956.0</td>\n",
       "      <td>0.1238</td>\n",
       "      <td>0.1866</td>\n",
       "      <td>0.2416</td>\n",
       "      <td>0.1860</td>\n",
       "      <td>0.2750</td>\n",
       "      <td>0.08902</td>\n",
       "    </tr>\n",
       "    <tr>\n",
       "      <th>2</th>\n",
       "      <td>84300903</td>\n",
       "      <td>M</td>\n",
       "      <td>19.69</td>\n",
       "      <td>21.25</td>\n",
       "      <td>130.00</td>\n",
       "      <td>1203.0</td>\n",
       "      <td>0.10960</td>\n",
       "      <td>0.15990</td>\n",
       "      <td>0.1974</td>\n",
       "      <td>0.12790</td>\n",
       "      <td>...</td>\n",
       "      <td>23.57</td>\n",
       "      <td>25.53</td>\n",
       "      <td>152.50</td>\n",
       "      <td>1709.0</td>\n",
       "      <td>0.1444</td>\n",
       "      <td>0.4245</td>\n",
       "      <td>0.4504</td>\n",
       "      <td>0.2430</td>\n",
       "      <td>0.3613</td>\n",
       "      <td>0.08758</td>\n",
       "    </tr>\n",
       "    <tr>\n",
       "      <th>3</th>\n",
       "      <td>84348301</td>\n",
       "      <td>M</td>\n",
       "      <td>11.42</td>\n",
       "      <td>20.38</td>\n",
       "      <td>77.58</td>\n",
       "      <td>386.1</td>\n",
       "      <td>0.14250</td>\n",
       "      <td>0.28390</td>\n",
       "      <td>0.2414</td>\n",
       "      <td>0.10520</td>\n",
       "      <td>...</td>\n",
       "      <td>14.91</td>\n",
       "      <td>26.50</td>\n",
       "      <td>98.87</td>\n",
       "      <td>567.7</td>\n",
       "      <td>0.2098</td>\n",
       "      <td>0.8663</td>\n",
       "      <td>0.6869</td>\n",
       "      <td>0.2575</td>\n",
       "      <td>0.6638</td>\n",
       "      <td>0.17300</td>\n",
       "    </tr>\n",
       "    <tr>\n",
       "      <th>4</th>\n",
       "      <td>84358402</td>\n",
       "      <td>M</td>\n",
       "      <td>20.29</td>\n",
       "      <td>14.34</td>\n",
       "      <td>135.10</td>\n",
       "      <td>1297.0</td>\n",
       "      <td>0.10030</td>\n",
       "      <td>0.13280</td>\n",
       "      <td>0.1980</td>\n",
       "      <td>0.10430</td>\n",
       "      <td>...</td>\n",
       "      <td>22.54</td>\n",
       "      <td>16.67</td>\n",
       "      <td>152.20</td>\n",
       "      <td>1575.0</td>\n",
       "      <td>0.1374</td>\n",
       "      <td>0.2050</td>\n",
       "      <td>0.4000</td>\n",
       "      <td>0.1625</td>\n",
       "      <td>0.2364</td>\n",
       "      <td>0.07678</td>\n",
       "    </tr>\n",
       "  </tbody>\n",
       "</table>\n",
       "<p>5 rows × 32 columns</p>\n",
       "</div>"
      ],
      "text/plain": [
       "   patient_id diagnosis  radius_mean  texture_mean  perimeter_mean  area_mean  \\\n",
       "0      842302         M        17.99         10.38          122.80     1001.0   \n",
       "1      842517         M        20.57         17.77          132.90     1326.0   \n",
       "2    84300903         M        19.69         21.25          130.00     1203.0   \n",
       "3    84348301         M        11.42         20.38           77.58      386.1   \n",
       "4    84358402         M        20.29         14.34          135.10     1297.0   \n",
       "\n",
       "   smoothness_mean  compactness_mean  concavity_mean  concave_points_mean  \\\n",
       "0          0.11840           0.27760          0.3001              0.14710   \n",
       "1          0.08474           0.07864          0.0869              0.07017   \n",
       "2          0.10960           0.15990          0.1974              0.12790   \n",
       "3          0.14250           0.28390          0.2414              0.10520   \n",
       "4          0.10030           0.13280          0.1980              0.10430   \n",
       "\n",
       "            ...             radius_worst  texture_worst  perimeter_worst  \\\n",
       "0           ...                    25.38          17.33           184.60   \n",
       "1           ...                    24.99          23.41           158.80   \n",
       "2           ...                    23.57          25.53           152.50   \n",
       "3           ...                    14.91          26.50            98.87   \n",
       "4           ...                    22.54          16.67           152.20   \n",
       "\n",
       "   area_worst  smoothness_worst  compactness_worst  concavity_worst  \\\n",
       "0      2019.0            0.1622             0.6656           0.7119   \n",
       "1      1956.0            0.1238             0.1866           0.2416   \n",
       "2      1709.0            0.1444             0.4245           0.4504   \n",
       "3       567.7            0.2098             0.8663           0.6869   \n",
       "4      1575.0            0.1374             0.2050           0.4000   \n",
       "\n",
       "   concave_points_worst  symmetry_worst  fractal_dimension_worst  \n",
       "0                0.2654          0.4601                  0.11890  \n",
       "1                0.1860          0.2750                  0.08902  \n",
       "2                0.2430          0.3613                  0.08758  \n",
       "3                0.2575          0.6638                  0.17300  \n",
       "4                0.1625          0.2364                  0.07678  \n",
       "\n",
       "[5 rows x 32 columns]"
      ]
     },
     "execution_count": 48,
     "metadata": {},
     "output_type": "execute_result"
    }
   ],
   "source": [
    "# Store filepath in a variable\n",
    "BC_dignosisF = \"Resources/data.csv\"\n",
    "\n",
    "# Read our Data file with pandas (Not every CSV requires an encoding, but we added it just in case)\n",
    "BC_dignosis= pd.read_csv(BC_dignosisF, encoding=\"utf-8\", low_memory=False )\n",
    "BC_dignosis[\"diagnosis\"] =BC_dignosis[\"diagnosis\"].astype(str)\n",
    "\n",
    "#Rename the Columns\n",
    "BC_dignosis.rename(columns={'id': 'patient_id', 'concave points_mean': 'concave_points_mean', 'concave points_se': 'concave_points_se', 'concave points_worst': 'concave_points_worst'}, inplace=True)\n",
    "\n",
    "#Show\n",
    "BC_dignosis.head()"
   ]
  },
  {
   "cell_type": "code",
   "execution_count": 49,
   "metadata": {},
   "outputs": [
    {
     "data": {
      "text/plain": [
       "patient_id          int64\n",
       "diagnosis          object\n",
       "radius_mean       float64\n",
       "texture_mean      float64\n",
       "perimeter_mean    float64\n",
       "dtype: object"
      ]
     },
     "execution_count": 49,
     "metadata": {},
     "output_type": "execute_result"
    }
   ],
   "source": [
    "#Show the data types\n",
    "BC_dignosis.dtypes.head()"
   ]
  },
  {
   "cell_type": "code",
   "execution_count": 50,
   "metadata": {},
   "outputs": [],
   "source": [
    "#BC_dignosis.to_csv(\"Resources/data_renamed.csv\",\n",
    "           #       encoding=\"utf-8\", index=False, header=True)"
   ]
  },
  {
   "cell_type": "markdown",
   "metadata": {},
   "source": [
    "# Step 2 - Database Set Up \n",
    "* Creating db for later manipulation"
   ]
  },
  {
   "cell_type": "code",
   "execution_count": 51,
   "metadata": {},
   "outputs": [],
   "source": [
    "#Creating db using reflect method\n",
    "Base = declarative_base()\n",
    "class BC(Base):\n",
    "    __tablename__ = 'imagedata_table'\n",
    "    id = Column(Integer, primary_key=True, nullable=False) \n",
    "    patient_id = Column(Integer)  \n",
    "    diagnosis = Column(String(255))                 \n",
    "    radius_mean = Column(Float)\n",
    "    texture_mean = Column(Float)\n",
    "    perimeter_mean = Column(Float)\n",
    "    area_mean = Column(Float)\n",
    "    smoothness_mean= Column(Float)\n",
    "    compactness_mean = Column(Float)\n",
    "    concavity_mean = Column(Float)\n",
    "    concave_points_mean = Column(Float)\n",
    "    symmetry_mean = Column(Float)\n",
    "    fractal_dimension_mean= Column(Float)\n",
    "    radius_se = Column(Float)\n",
    "    texture_se = Column(Float)\n",
    "    perimeter_se = Column(Float)\n",
    "    area_se  = Column(Float)\n",
    "    smoothness_se = Column(Float)\n",
    "    compactness_se = Column(Float)\n",
    "    concavity_se = Column(Float)\n",
    "    concave_points_se = Column(Float)\n",
    "    symmetry_se = Column(Float)\n",
    "    fractal_dimension_se = Column(Float)\n",
    "    radius_worst = Column(Float)\n",
    "    texture_worst  = Column(Float)\n",
    "    perimeter_worst = Column(Float)\n",
    "    area_worst = Column(Float)\n",
    "    smoothness_worst = Column(Float)\n",
    "    compactness_worst = Column(Float)\n",
    "    concavity_worst = Column(Float)\n",
    "    concave_points_worst = Column(Float)\n",
    "    symmetry_worst = Column(Float)\n",
    "    fractal_dimension_worst = Column(Float)  \n",
    "\n",
    "#Connecting to db and saving it in the db folder\n",
    "engine = create_engine(\"sqlite:///db/BC_diagnosis.db\")\n",
    "Base.metadata.create_all(engine)\n",
    "\n",
    "#Create the session\n",
    "session = Session(bind=engine)"
   ]
  },
  {
   "cell_type": "code",
   "execution_count": 52,
   "metadata": {},
   "outputs": [],
   "source": [
    "#Iterating through rows to input data inside db\n",
    "for i, row in BC_dignosis.iterrows():\n",
    "    \n",
    "    record = BC(**{\n",
    "        'patient_id': row.patient_id,\n",
    "        'diagnosis': row.diagnosis, \n",
    "        'radius_mean': row.radius_mean, \n",
    "        'texture_mean': row.texture_mean, \n",
    "        'perimeter_mean': row.perimeter_mean,\n",
    "        'area_mean': row.area_mean,\n",
    "        'smoothness_mean': row.smoothness_mean,\n",
    "        'compactness_mean': row.compactness_mean,\n",
    "        'concavity_mean': row.concavity_mean,\n",
    "        'concave_points_mean': row.concave_points_mean, \n",
    "        'symmetry_mean': row.symmetry_mean,\n",
    "        'fractal_dimension_mean': row.fractal_dimension_mean,\n",
    "        'radius_se': row.radius_se,\n",
    "        'texture_se': row.texture_se, \n",
    "        'perimeter_se': row.perimeter_se, \n",
    "        'area_se': row.area_se, \n",
    "        'smoothness_se': row.smoothness_se,\n",
    "        'compactness_se': row.compactness_se,\n",
    "        'concavity_se': row.concavity_se,\n",
    "        'concave_points_se': row.concave_points_se, \n",
    "        'symmetry_se': row.symmetry_se,\n",
    "        'fractal_dimension_se': row.fractal_dimension_se, \n",
    "        'radius_worst': row.radius_worst, \n",
    "        'texture_worst': row.texture_worst,\n",
    "        'perimeter_worst': row.perimeter_worst,\n",
    "        'area_worst': row.area_worst, \n",
    "        'smoothness_worst': row.smoothness_worst,\n",
    "        'compactness_worst': row.compactness_worst,\n",
    "        'concavity_worst': row.concavity_worst, \n",
    "        'concave_points_worst': row.concave_points_worst,\n",
    "        'symmetry_worst': row.symmetry_worst, \n",
    "        'fractal_dimension_worst': row.fractal_dimension_worst\n",
    "      \n",
    "})\n",
    "\n",
    "    session.add(record)\n",
    "session.commit()"
   ]
  },
  {
   "cell_type": "code",
   "execution_count": 53,
   "metadata": {},
   "outputs": [
    {
     "data": {
      "text/plain": [
       "patient_id        92751\n",
       "diagnosis             B\n",
       "radius_mean        7.76\n",
       "texture_mean      24.54\n",
       "perimeter_mean    47.92\n",
       "Name: 568, dtype: object"
      ]
     },
     "execution_count": 53,
     "metadata": {},
     "output_type": "execute_result"
    }
   ],
   "source": [
    "#Display row\n",
    "row.head()"
   ]
  },
  {
   "cell_type": "code",
   "execution_count": 54,
   "metadata": {},
   "outputs": [
    {
     "data": {
      "text/plain": [
       "sqlalchemy.ext.declarative.api.Base"
      ]
     },
     "execution_count": 54,
     "metadata": {},
     "output_type": "execute_result"
    }
   ],
   "source": [
    "Base = declarative_base()\n",
    "Base"
   ]
  },
  {
   "cell_type": "code",
   "execution_count": 55,
   "metadata": {},
   "outputs": [
    {
     "data": {
      "text/plain": [
       "['imagedata_table']"
      ]
     },
     "execution_count": 55,
     "metadata": {},
     "output_type": "execute_result"
    }
   ],
   "source": [
    "engine = create_engine(\"sqlite:///db/BC_diagnosis.db\")\n",
    "Base = automap_base()\n",
    "Base.prepare(engine, reflect=True)\n",
    "Base.classes.keys()"
   ]
  },
  {
   "cell_type": "code",
   "execution_count": 56,
   "metadata": {},
   "outputs": [],
   "source": [
    "#Check that db is working by inspecting\n",
    "#Use reflect method \n",
    "from sqlalchemy import create_engine, MetaData, Table\n",
    "from sqlalchemy.engine.reflection import Inspector\n",
    "\n",
    "meta = MetaData()\n",
    "user_table = Table('imagedata_table', meta)\n",
    "insp = Inspector.from_engine(engine)\n",
    "insp.reflecttable(user_table, None)"
   ]
  },
  {
   "cell_type": "code",
   "execution_count": 57,
   "metadata": {},
   "outputs": [
    {
     "data": {
      "text/plain": [
       "sqlalchemy.ext.automap.imagedata_table"
      ]
     },
     "execution_count": 57,
     "metadata": {},
     "output_type": "execute_result"
    }
   ],
   "source": [
    "disgnosis=Base.classes.imagedata_table\n",
    "disgnosis"
   ]
  },
  {
   "cell_type": "code",
   "execution_count": 58,
   "metadata": {},
   "outputs": [
    {
     "data": {
      "text/plain": [
       "['imagedata_table']"
      ]
     },
     "execution_count": 58,
     "metadata": {},
     "output_type": "execute_result"
    }
   ],
   "source": [
    "inspector = inspect(engine)\n",
    "inspector.get_table_names()"
   ]
  },
  {
   "cell_type": "code",
   "execution_count": 59,
   "metadata": {},
   "outputs": [
    {
     "name": "stdout",
     "output_type": "stream",
     "text": [
      "id INTEGER\n",
      "patient_id INTEGER\n",
      "diagnosis VARCHAR(255)\n",
      "radius_mean FLOAT\n",
      "texture_mean FLOAT\n",
      "perimeter_mean FLOAT\n",
      "area_mean FLOAT\n",
      "smoothness_mean FLOAT\n",
      "compactness_mean FLOAT\n",
      "concavity_mean FLOAT\n",
      "concave_points_mean FLOAT\n",
      "symmetry_mean FLOAT\n",
      "fractal_dimension_mean FLOAT\n",
      "radius_se FLOAT\n",
      "texture_se FLOAT\n",
      "perimeter_se FLOAT\n",
      "area_se FLOAT\n",
      "smoothness_se FLOAT\n",
      "compactness_se FLOAT\n",
      "concavity_se FLOAT\n",
      "concave_points_se FLOAT\n",
      "symmetry_se FLOAT\n",
      "fractal_dimension_se FLOAT\n",
      "radius_worst FLOAT\n",
      "texture_worst FLOAT\n",
      "perimeter_worst FLOAT\n",
      "area_worst FLOAT\n",
      "smoothness_worst FLOAT\n",
      "compactness_worst FLOAT\n",
      "concavity_worst FLOAT\n",
      "concave_points_worst FLOAT\n",
      "symmetry_worst FLOAT\n",
      "fractal_dimension_worst FLOAT\n"
     ]
    }
   ],
   "source": [
    "columns = inspector.get_columns('imagedata_table')\n",
    "for c in columns:\n",
    "    print(c['name'], c[\"type\"])"
   ]
  },
  {
   "cell_type": "code",
   "execution_count": 60,
   "metadata": {},
   "outputs": [
    {
     "name": "stdout",
     "output_type": "stream",
     "text": [
      "mapped class BC->imagedata_table\n"
     ]
    }
   ],
   "source": [
    "from sqlalchemy import inspect\n",
    "\n",
    "mapper = inspect(BC)\n",
    "print(mapper)"
   ]
  },
  {
   "cell_type": "code",
   "execution_count": 61,
   "metadata": {},
   "outputs": [],
   "source": [
    "Session = sessionmaker(bind=engine)\n",
    "# Session is a class\n",
    "session = Session()\n",
    "# now session is a instance of the class Session"
   ]
  },
  {
   "cell_type": "code",
   "execution_count": 62,
   "metadata": {},
   "outputs": [
    {
     "data": {
      "text/plain": [
       "[(1, 842302, 'M', 17.99, 10.38, 122.8, 1001.0, 0.1184, 0.2776, 0.3001, 0.1471, 0.2419, 0.07871, 1.095, 0.9053, 8.589, 153.4, 0.006399, 0.04904, 0.05372999999999999, 0.01587, 0.03003, 0.006193, 25.38, 17.33, 184.6, 2019.0, 0.1622, 0.6656, 0.7119, 0.2654, 0.4601, 0.1189),\n",
       " (2, 842517, 'M', 20.57, 17.77, 132.9, 1326.0, 0.08474, 0.07864, 0.0869, 0.07017000000000001, 0.1812, 0.056670000000000005, 0.5435, 0.7339, 3.398, 74.08, 0.005225, 0.013080000000000001, 0.0186, 0.0134, 0.013890000000000001, 0.003532, 24.99, 23.41, 158.8, 1956.0, 0.1238, 0.1866, 0.2416, 0.18600000000000003, 0.275, 0.08902),\n",
       " (3, 84300903, 'M', 19.69, 21.25, 130.0, 1203.0, 0.1096, 0.1599, 0.1974, 0.1279, 0.2069, 0.059989999999999995, 0.7456, 0.7869, 4.585, 94.03, 0.00615, 0.040060000000000005, 0.03832, 0.02058, 0.0225, 0.004571, 23.57, 25.53, 152.5, 1709.0, 0.1444, 0.4245, 0.4504, 0.243, 0.3613, 0.08757999999999999),\n",
       " (4, 84348301, 'M', 11.42, 20.38, 77.58, 386.1, 0.1425, 0.2839, 0.2414, 0.1052, 0.2597, 0.09744, 0.4956, 1.156, 3.445, 27.23, 0.00911, 0.07458, 0.05661, 0.01867, 0.059629999999999996, 0.009208, 14.91, 26.5, 98.87, 567.7, 0.2098, 0.8663, 0.6869, 0.2575, 0.6638, 0.17300000000000001),\n",
       " (5, 84358402, 'M', 20.29, 14.34, 135.1, 1297.0, 0.1003, 0.1328, 0.198, 0.1043, 0.1809, 0.05882999999999999, 0.7572, 0.7813, 5.438, 94.44, 0.01149, 0.02461, 0.05687999999999999, 0.01885, 0.01756, 0.005115, 22.54, 16.67, 152.2, 1575.0, 0.1374, 0.205, 0.4, 0.1625, 0.2364, 0.07678)]"
      ]
     },
     "execution_count": 62,
     "metadata": {},
     "output_type": "execute_result"
    }
   ],
   "source": [
    "engine.execute('SELECT * FROM imagedata_table LIMIT 5').fetchall()"
   ]
  },
  {
   "cell_type": "code",
   "execution_count": null,
   "metadata": {},
   "outputs": [],
   "source": []
  },
  {
   "cell_type": "code",
   "execution_count": null,
   "metadata": {},
   "outputs": [],
   "source": []
  },
  {
   "cell_type": "code",
   "execution_count": null,
   "metadata": {},
   "outputs": [],
   "source": []
  }
 ],
 "metadata": {
  "kernelspec": {
   "display_name": "Python 3",
   "language": "python",
   "name": "python3"
  },
  "language_info": {
   "codemirror_mode": {
    "name": "ipython",
    "version": 3
   },
   "file_extension": ".py",
   "mimetype": "text/x-python",
   "name": "python",
   "nbconvert_exporter": "python",
   "pygments_lexer": "ipython3",
   "version": "3.6.7"
  }
 },
 "nbformat": 4,
 "nbformat_minor": 2
}
